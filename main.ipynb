{
 "cells": [
  {
   "cell_type": "markdown",
   "metadata": {},
   "source": [
    "# Sentiment Analysis with Traditional Machine Learning\n",
    "\n",
    "## Introduction\n",
    "This project aims to build a machine learning model to perform sentiment analysis on a large dataset of movie reviews. The goal is to classify each review as positive or negative, handle class imbalance, and evaluate the model's performance.\n"
   ]
  },
  {
   "cell_type": "markdown",
   "metadata": {},
   "source": [
    "#### Importing Libraries"
   ]
  },
  {
   "cell_type": "code",
   "execution_count": 1,
   "metadata": {},
   "outputs": [],
   "source": [
    "# Import necessary libraries\n",
    "import pandas as pd\n",
    "import os\n",
    "import numpy as np\n",
    "\n",
    "# Import necessary libraries for text preprocessing\n",
    "from nltk.corpus import stopwords\n",
    "from nltk.stem import WordNetLemmatizer\n",
    "from nltk.tokenize import word_tokenize\n",
    "import string\n",
    "import nltk\n",
    "\n",
    "# Import necessary libraries for model training\n",
    "from sklearn.linear_model import LogisticRegression\n",
    "from sklearn.svm import SVC\n",
    "from xgboost import XGBClassifier\n",
    "from sklearn.utils.class_weight import compute_class_weight\n",
    "\n",
    "# Import necessary libraries for feature extraction\n",
    "from sklearn.feature_extraction.text import TfidfVectorizer\n",
    "\n",
    "# Import necessary libraries for model evaluation\n",
    "from sklearn.metrics import accuracy_score, precision_score, recall_score, f1_score"
   ]
  },
  {
   "cell_type": "markdown",
   "metadata": {},
   "source": [
    "# 1. DATA PREPROCESSING"
   ]
  },
  {
   "cell_type": "markdown",
   "metadata": {},
   "source": [
    "### 1.1 Load the dataset\n",
    "\n",
    "The core dataset contains 50,000 reviews split evenly into 25k train\n",
    "and 25k test sets. The overall distribution of labels is balanced (25k\n",
    "pos and 25k neg). We also include an additional 50,000 unlabeled\n",
    "documents for unsupervised learning. More information is in README file of the dataset.\n",
    "Dataset link: https://ai.stanford.edu/~amaas/data/sentiment/"
   ]
  },
  {
   "cell_type": "code",
   "execution_count": 2,
   "metadata": {},
   "outputs": [],
   "source": [
    "\n",
    "# Load the dataset\n",
    "def load_data(data_dir):\n",
    "    data = []\n",
    "    labels = []\n",
    "    for label in ['pos', 'neg']:\n",
    "        labeled_data_dir = os.path.join(data_dir, label)\n",
    "        for file in os.listdir(labeled_data_dir):\n",
    "            if file.endswith(\".txt\"):\n",
    "                with open(os.path.join(labeled_data_dir, file), 'r', encoding='utf-8') as f:\n",
    "                    data.append(f.read())\n",
    "                    labels.append(label)\n",
    "    return pd.DataFrame({'review': data, 'sentiment': labels})"
   ]
  },
  {
   "cell_type": "code",
   "execution_count": 3,
   "metadata": {},
   "outputs": [],
   "source": [
    "\n",
    "# Load training and test datasets\n",
    "train_df = load_data(os.path.join('data', 'train'))\n",
    "test_df = load_data(os.path.join('data', 'test'))\n",
    "\n",
    "\n"
   ]
  },
  {
   "cell_type": "markdown",
   "metadata": {},
   "source": [
    "There are two top-level directories [train/, test/] corresponding to\n",
    "the training and test sets. Each contains [pos/, neg/] directories for\n",
    "the reviews with binary labels positive and negative. Within these\n",
    "directories, reviews are stored in text files."
   ]
  },
  {
   "cell_type": "code",
   "execution_count": 4,
   "metadata": {},
   "outputs": [
    {
     "data": {
      "text/html": [
       "<div>\n",
       "<style scoped>\n",
       "    .dataframe tbody tr th:only-of-type {\n",
       "        vertical-align: middle;\n",
       "    }\n",
       "\n",
       "    .dataframe tbody tr th {\n",
       "        vertical-align: top;\n",
       "    }\n",
       "\n",
       "    .dataframe thead th {\n",
       "        text-align: right;\n",
       "    }\n",
       "</style>\n",
       "<table border=\"1\" class=\"dataframe\">\n",
       "  <thead>\n",
       "    <tr style=\"text-align: right;\">\n",
       "      <th></th>\n",
       "      <th>review</th>\n",
       "      <th>sentiment</th>\n",
       "    </tr>\n",
       "  </thead>\n",
       "  <tbody>\n",
       "    <tr>\n",
       "      <th>0</th>\n",
       "      <td>For a movie that gets no respect there sure ar...</td>\n",
       "      <td>pos</td>\n",
       "    </tr>\n",
       "    <tr>\n",
       "      <th>1</th>\n",
       "      <td>Bizarre horror movie filled with famous faces ...</td>\n",
       "      <td>pos</td>\n",
       "    </tr>\n",
       "    <tr>\n",
       "      <th>2</th>\n",
       "      <td>A solid, if unremarkable film. Matthau, as Ein...</td>\n",
       "      <td>pos</td>\n",
       "    </tr>\n",
       "    <tr>\n",
       "      <th>3</th>\n",
       "      <td>It's a strange feeling to sit alone in a theat...</td>\n",
       "      <td>pos</td>\n",
       "    </tr>\n",
       "    <tr>\n",
       "      <th>4</th>\n",
       "      <td>You probably all already know this by now, but...</td>\n",
       "      <td>pos</td>\n",
       "    </tr>\n",
       "  </tbody>\n",
       "</table>\n",
       "</div>"
      ],
      "text/plain": [
       "                                              review sentiment\n",
       "0  For a movie that gets no respect there sure ar...       pos\n",
       "1  Bizarre horror movie filled with famous faces ...       pos\n",
       "2  A solid, if unremarkable film. Matthau, as Ein...       pos\n",
       "3  It's a strange feeling to sit alone in a theat...       pos\n",
       "4  You probably all already know this by now, but...       pos"
      ]
     },
     "execution_count": 4,
     "metadata": {},
     "output_type": "execute_result"
    }
   ],
   "source": [
    "# Display the first few rows of the training data\n",
    "train_df.head()\n"
   ]
  },
  {
   "cell_type": "markdown",
   "metadata": {},
   "source": [
    "### 1.2 Cleaning the Text Data:\n",
    "\n",
    "    Remove stop words, punctuation, and perform stemming/lemmatization."
   ]
  },
  {
   "cell_type": "markdown",
   "metadata": {},
   "source": [
    "#### Downloading NLTK Data\n",
    "\n",
    "To preprocess the text data effectively, we need to download certain resources from the Natural Language Toolkit (NLTK). These resources include stopwords for removing common words that do not contribute much to the meaning, tokenizers for breaking text into individual words or tokens, and WordNet for lemmatization.\n",
    "\n",
    "1. **Stopwords**:\n",
    "   - **Reason**: The `stopwords` corpus from NLTK contains a list of common words (like 'the', 'is', 'in', etc.) that can be removed from the text as they do not contribute significantly to the sentiment analysis.\n",
    "\n",
    "2. **Punkt**:\n",
    "   - **Reason**: The `punkt` tokenizer models are used for tokenizing sentences and words. It helps in splitting the text into individual words or tokens, which is a crucial step in text preprocessing.\n",
    "\n",
    "3. **WordNet**:\n",
    "   - **Reason**: The `wordnet` corpus provides a lexical database for the English language. It is used for lemmatization, which involves reducing words to their base or root form (e.g., 'running' to 'run'). Lemmatization helps in normalizing the text for better analysis.\n",
    "\n",
    "By downloading these datasets, we ensure that our text preprocessing steps are effective and comprehensive, allowing us to clean and prepare the text data for sentiment analysis."
   ]
  },
  {
   "cell_type": "code",
   "execution_count": 5,
   "metadata": {},
   "outputs": [
    {
     "name": "stderr",
     "output_type": "stream",
     "text": [
      "[nltk_data] Downloading package stopwords to /Users/hamza/nltk_data...\n",
      "[nltk_data]   Package stopwords is already up-to-date!\n",
      "[nltk_data] Downloading package punkt to /Users/hamza/nltk_data...\n",
      "[nltk_data]   Package punkt is already up-to-date!\n",
      "[nltk_data] Downloading package wordnet to /Users/hamza/nltk_data...\n",
      "[nltk_data]   Package wordnet is already up-to-date!\n"
     ]
    },
    {
     "data": {
      "text/plain": [
       "True"
      ]
     },
     "execution_count": 5,
     "metadata": {},
     "output_type": "execute_result"
    }
   ],
   "source": [
    "\n",
    "# Download NLTK data\n",
    "nltk.download('stopwords')\n",
    "nltk.download('punkt')\n",
    "nltk.download('wordnet')"
   ]
  },
  {
   "cell_type": "code",
   "execution_count": 42,
   "metadata": {},
   "outputs": [],
   "source": [
    "# Define stopwords and lemmatizer\n",
    "stop_words = set(stopwords.words('english'))\n",
    "lemmatizer = WordNetLemmatizer()\n",
    "\n",
    "# Preprocess text data\n",
    "def preprocess_text(text):\n",
    "    # Print the original text\n",
    "    #print(\"Original:\", text)\n",
    "    # Convert to lowercase\n",
    "    text = text.lower()\n",
    "    #print(\"Lowercase:\", text)\n",
    "    # Remove punctuation\n",
    "    text = text.translate(str.maketrans('', '', string.punctuation))\n",
    "    #print(\"No Punctuation:\", text)\n",
    "    # Tokenize text\n",
    "    words = word_tokenize(text)\n",
    "   # print(\"Tokenized:\", words)\n",
    "    # Lemmatize words without removing stopwords first to check the impact\n",
    "    lemmatized_words = [lemmatizer.lemmatize(word) for word in words]\n",
    "   # print(\"Lemmatized:\", lemmatized_words)\n",
    "    #Remove stopwords after lemmatization (optional)\n",
    "    filtered_words = [word for word in lemmatized_words if word not in stop_words]\n",
    "   # print(\"Stopwords Removed:\", filtered_words)\n",
    "    return ' '.join(filtered_words)\n",
    "\n",
    "\n",
    "# Apply preprocessing to a few examples for debugging\n",
    "#for i in range(5):\n",
    "#    print(f\"\\nReview {i}:\")\n",
    "#    preprocess_text(train_df['review'][i])\n",
    "\n"
   ]
  },
  {
   "cell_type": "code",
   "execution_count": 7,
   "metadata": {},
   "outputs": [
    {
     "data": {
      "text/html": [
       "<div>\n",
       "<style scoped>\n",
       "    .dataframe tbody tr th:only-of-type {\n",
       "        vertical-align: middle;\n",
       "    }\n",
       "\n",
       "    .dataframe tbody tr th {\n",
       "        vertical-align: top;\n",
       "    }\n",
       "\n",
       "    .dataframe thead th {\n",
       "        text-align: right;\n",
       "    }\n",
       "</style>\n",
       "<table border=\"1\" class=\"dataframe\">\n",
       "  <thead>\n",
       "    <tr style=\"text-align: right;\">\n",
       "      <th></th>\n",
       "      <th>review</th>\n",
       "      <th>sentiment</th>\n",
       "    </tr>\n",
       "  </thead>\n",
       "  <tbody>\n",
       "    <tr>\n",
       "      <th>0</th>\n",
       "      <td>movie get respect sure lot memorable quote lis...</td>\n",
       "      <td>pos</td>\n",
       "    </tr>\n",
       "    <tr>\n",
       "      <th>1</th>\n",
       "      <td>bizarre horror movie filled famous face stolen...</td>\n",
       "      <td>pos</td>\n",
       "    </tr>\n",
       "    <tr>\n",
       "      <th>2</th>\n",
       "      <td>solid unremarkable film matthau einstein wa wo...</td>\n",
       "      <td>pos</td>\n",
       "    </tr>\n",
       "    <tr>\n",
       "      <th>3</th>\n",
       "      <td>strange feeling sit alone theater occupied par...</td>\n",
       "      <td>pos</td>\n",
       "    </tr>\n",
       "    <tr>\n",
       "      <th>4</th>\n",
       "      <td>probably already know 5 additional episode nev...</td>\n",
       "      <td>pos</td>\n",
       "    </tr>\n",
       "  </tbody>\n",
       "</table>\n",
       "</div>"
      ],
      "text/plain": [
       "                                              review sentiment\n",
       "0  movie get respect sure lot memorable quote lis...       pos\n",
       "1  bizarre horror movie filled famous face stolen...       pos\n",
       "2  solid unremarkable film matthau einstein wa wo...       pos\n",
       "3  strange feeling sit alone theater occupied par...       pos\n",
       "4  probably already know 5 additional episode nev...       pos"
      ]
     },
     "execution_count": 7,
     "metadata": {},
     "output_type": "execute_result"
    }
   ],
   "source": [
    "# Apply preprocessing to training and test datasets\n",
    "train_df['review'] = train_df['review'].apply(preprocess_text)\n",
    "test_df['review'] = test_df['review'].apply(preprocess_text)\n",
    "\n",
    "# Display the first few rows of the preprocessed training data\n",
    "train_df.head()\n"
   ]
  },
  {
   "cell_type": "markdown",
   "metadata": {},
   "source": [
    "### 1.3 Converting Text Data into Numerical Features:\n",
    "Use TF-IDF or word embeddings for feature extraction.\n",
    "We use 5000 features for TF-IDF vectorization to balance capturing relevant information while ensuring computational efficiency and preventing overfitting."
   ]
  },
  {
   "cell_type": "code",
   "execution_count": 8,
   "metadata": {},
   "outputs": [],
   "source": [
    "\n",
    "# Convert text data to numerical features using TF-IDF\n",
    "vectorizer = TfidfVectorizer(max_features=5000)\n",
    "X_train = vectorizer.fit_transform(train_df['review'])\n",
    "X_test = vectorizer.transform(test_df['review'])"
   ]
  },
  {
   "cell_type": "markdown",
   "metadata": {},
   "source": [
    "### 1.4 Convert labels to binary format\n",
    "Postive Review = 1, \n",
    "Negative Review = 0"
   ]
  },
  {
   "cell_type": "code",
   "execution_count": 9,
   "metadata": {},
   "outputs": [
    {
     "name": "stdout",
     "output_type": "stream",
     "text": [
      "X_train shape: (25000, 5000)\n",
      "X_test shape: (25000, 5000)\n",
      "y_train shape: (25000,)\n",
      "y_test shape: (25000,)\n"
     ]
    }
   ],
   "source": [
    "# Convert labels to binary format\n",
    "y_train = train_df['sentiment'].apply(lambda x: 1 if x == 'pos' else 0)\n",
    "y_test = test_df['sentiment'].apply(lambda x: 1 if x == 'pos' else 0)\n",
    "\n",
    "# Display the shape of the feature matrices and label vectors\n",
    "print(f\"X_train shape: {X_train.shape}\")\n",
    "print(f\"X_test shape: {X_test.shape}\")\n",
    "print(f\"y_train shape: {y_train.shape}\")\n",
    "print(f\"y_test shape: {y_test.shape}\")"
   ]
  },
  {
   "cell_type": "markdown",
   "metadata": {},
   "source": [
    "# 2. Model Selection and Training\n",
    "Logistic Regression,\n",
    "Support Vector Machine (SVM),\n",
    "Gradient Boosting (e.g., XGBoost),"
   ]
  },
  {
   "cell_type": "markdown",
   "metadata": {},
   "source": [
    "## 2.1 Train Machine Learning Models"
   ]
  },
  {
   "cell_type": "markdown",
   "metadata": {},
   "source": [
    "### 2.1.1 Train Logistic Regression Model"
   ]
  },
  {
   "cell_type": "code",
   "execution_count": 10,
   "metadata": {},
   "outputs": [],
   "source": [
    "# Train Logistic Regression model\n",
    "log_reg = LogisticRegression(class_weight='balanced')\n",
    "log_reg.fit(X_train, y_train)\n",
    "y_pred_log_reg = log_reg.predict(X_test)\n",
    "\n"
   ]
  },
  {
   "cell_type": "markdown",
   "metadata": {},
   "source": [
    "### 2.1.2 Train SVM Model"
   ]
  },
  {
   "cell_type": "code",
   "execution_count": 11,
   "metadata": {},
   "outputs": [],
   "source": [
    "# Train SVM model\n",
    "svm = SVC(class_weight='balanced')\n",
    "svm.fit(X_train, y_train)\n",
    "y_pred_svm = svm.predict(X_test)\n",
    "\n"
   ]
  },
  {
   "cell_type": "markdown",
   "metadata": {},
   "source": [
    "### 2.1.3 Train XGBoost Model"
   ]
  },
  {
   "cell_type": "code",
   "execution_count": 21,
   "metadata": {},
   "outputs": [],
   "source": [
    "\n",
    "# Compute class weights\n",
    "classes = np.array([0, 1])\n",
    "class_weights = compute_class_weight('balanced', classes=classes, y=y_train)\n",
    "\n",
    "# Method 1\n",
    "# Train XGBoost model\n",
    "xgb = XGBClassifier(scale_pos_weight=class_weights[1])\n",
    "xgb.fit(X_train, y_train)\n",
    "y_pred_xgb = xgb.predict(X_test)\n",
    "\n",
    "# Method 2\n",
    "# Results: XGBoost - Accuracy: 0.8324, Precision: 0.8086465606893478, Recall: 0.87088, F1 Score: 0.8386102765580464\n",
    "# Train XGBoost model with class weights\n",
    "# xgb = XGBClassifier(n_estimators=100, max_depth=6, learning_rate=0.1, scale_pos_weight=class_weights[1])\n",
    "# xgb.fit(X_train, y_train)\n",
    "# y_pred_xgb = xgb.predict(X_test)\n"
   ]
  },
  {
   "cell_type": "markdown",
   "metadata": {},
   "source": [
    "###### XGBClassifier: XGBoost classifier from the xgboost library.\n",
    "###### n_estimators=100: Number of boosting rounds.\n",
    "###### max_depth=6: Maximum depth of a tree.\n",
    "###### learning_rate=0.1: Step size shrinkage used to prevent overfitting.\n",
    "###### scale_pos_weight=class_weights[1]: Balances the positive class by scaling its weight.\n",
    "###### simple input params gave better results"
   ]
  },
  {
   "cell_type": "markdown",
   "metadata": {},
   "source": [
    "#### Handling Class Imbalance:\n",
    "   - The dataset could have an imbalance between positive and negative reviews, requiring techniques to ensure balanced learning, causing the model to be biased towards the majority class.\n",
    "   - This imbalance could lead to inaccurate predictions, especially for the minority class (e.g., fewer negative reviews).\n",
    "#### Solutions:\n",
    "   - Applied class weights to the models to handle class imbalance.\n",
    "   - Used `class_weight='balanced'` for Logistic Regression and SVM, to automatically adjust weights inversely proportional to class frequencies.\n",
    "   - Set `scale_pos_weight` to balance the weight of the positive class.\n",
    "#### Improved Accuracy:\n",
    "   - These techniques ensured that the models considered both classes fairly, leading to more accurate and robust predictions."
   ]
  },
  {
   "cell_type": "markdown",
   "metadata": {},
   "source": [
    "# 4. Model Evaluation\n",
    "\n",
    "Evaluate the Model on the Test Set:\n",
    "    Calculate accuracy, precision, recall, and F1-score."
   ]
  },
  {
   "cell_type": "code",
   "execution_count": 22,
   "metadata": {},
   "outputs": [],
   "source": [
    "\n",
    "\n",
    "# Function to evaluate model performance\n",
    "def evaluate_model(y_true, y_pred):\n",
    "    accuracy = accuracy_score(y_true, y_pred)\n",
    "    precision = precision_score(y_true, y_pred)\n",
    "    recall = recall_score(y_true, y_pred)\n",
    "    f1 = f1_score(y_true, y_pred)\n",
    "    return accuracy, precision, recall, f1"
   ]
  },
  {
   "cell_type": "code",
   "execution_count": 23,
   "metadata": {},
   "outputs": [],
   "source": [
    "# Evaluate Logistic Regression model\n",
    "acc_log_reg, prec_log_reg, rec_log_reg, f1_log_reg = evaluate_model(y_test, y_pred_log_reg)\n",
    "\n",
    "# Evaluate SVM model\n",
    "acc_svm, prec_svm, rec_svm, f1_svm = evaluate_model(y_test, y_pred_svm)\n",
    "\n",
    "# Evaluate XGBoost model\n",
    "acc_xgb, prec_xgb, rec_xgb, f1_xgb = evaluate_model(y_test, y_pred_xgb)\n"
   ]
  },
  {
   "cell_type": "markdown",
   "metadata": {},
   "source": [
    "### 4.1 Models Comparison"
   ]
  },
  {
   "cell_type": "code",
   "execution_count": 24,
   "metadata": {},
   "outputs": [
    {
     "name": "stdout",
     "output_type": "stream",
     "text": [
      "Logistic Regression - Accuracy: 0.87952, Precision: 0.8786113328012769, Recall: 0.88072, F1 Score: 0.87966440271674\n",
      "SVM - Accuracy: 0.88024, Precision: 0.8809714652132093, Recall: 0.87928, F1 Score: 0.8801249199231262\n",
      "XGBoost - Accuracy: 0.8544, Precision: 0.8426140757927301, Recall: 0.8716, F1 Score: 0.8568619740464019\n"
     ]
    }
   ],
   "source": [
    "# Print evaluation metrics\n",
    "print(f\"Logistic Regression - Accuracy: {acc_log_reg}, Precision: {prec_log_reg}, Recall: {rec_log_reg}, F1 Score: {f1_log_reg}\")\n",
    "print(f\"SVM - Accuracy: {acc_svm}, Precision: {prec_svm}, Recall: {rec_svm}, F1 Score: {f1_svm}\")\n",
    "print(f\"XGBoost - Accuracy: {acc_xgb}, Precision: {prec_xgb}, Recall: {rec_xgb}, F1 Score: {f1_xgb}\")\n"
   ]
  },
  {
   "cell_type": "markdown",
   "metadata": {},
   "source": [
    "### 4.3 Comparison of Evaluation Metrics for Different Models\n",
    "\n",
    "The bar chart below compares the evaluation metrics (Accuracy, Precision, Recall, and F1 Score) for the Logistic Regression, SVM, and XGBoost models. Each metric is represented by a different color.\n"
   ]
  },
  {
   "cell_type": "code",
   "execution_count": 38,
   "metadata": {},
   "outputs": [
    {
     "data": {
      "image/png": "[encoded data removed]",
      "text/plain": [
       "<Figure size 1200x600 with 1 Axes>"
      ]
     },
     "metadata": {},
     "output_type": "display_data"
    }
   ],
   "source": [
    "import matplotlib.pyplot as plt\n",
    "import numpy as np\n",
    "\n",
    "# Evaluation metrics for each model\n",
    "models = ['Logistic Regression', 'SVM', 'XGBoost']\n",
    "accuracy = [acc_log_reg, acc_svm, acc_xgb]\n",
    "precision = [prec_log_reg, prec_svm, prec_xgb]\n",
    "recall = [rec_log_reg, rec_svm, rec_xgb]\n",
    "f1_score = [f1_log_reg, f1_svm, f1_xgb]\n",
    "\n",
    "# Set width of bars\n",
    "barWidth = 0.15\n",
    "\n",
    "# Set position of bar on X axis\n",
    "r1 = np.arange(len(models))\n",
    "r2 = [x + barWidth for x in r1]\n",
    "r3 = [x + barWidth for x in r2]\n",
    "r4 = [x + barWidth for x in r3]\n",
    "\n",
    "# Create figure\n",
    "plt.figure(figsize=(12, 6))\n",
    "\n",
    "# Make the bar plots\n",
    "bars1 = plt.bar(r1, accuracy, color='b', width=barWidth, edgecolor='grey', label='Accuracy')\n",
    "bars2 = plt.bar(r2, precision, color='g', width=barWidth, edgecolor='grey', label='Precision')\n",
    "bars3 = plt.bar(r3, recall, color='r', width=barWidth, edgecolor='grey', label='Recall')\n",
    "bars4 = plt.bar(r4, f1_score, color='y', width=barWidth, edgecolor='grey', label='F1 Score')\n",
    "\n",
    "# Add labels and title\n",
    "plt.xlabel('Models', fontweight='bold')\n",
    "plt.xticks([r + 1.5*barWidth for r in range(len(models))], models)\n",
    "plt.ylabel('Scores', fontweight='bold')\n",
    "plt.ylim(0.84, 0.89)  # Adjusting the y-axis scale for better differentiation\n",
    "plt.title('Comparison of Evaluation Metrics for Different Models')\n",
    "plt.legend()\n",
    "\n",
    "# Add numerical labels on top of each bar\n",
    "def add_labels(bars):\n",
    "    for bar in bars:\n",
    "        yval = bar.get_height()\n",
    "        plt.text(bar.get_x() + bar.get_width()/2, yval + 0.001, round(yval, 4), ha='center', va='bottom')\n",
    "\n",
    "add_labels(bars1)\n",
    "add_labels(bars2)\n",
    "add_labels(bars3)\n",
    "add_labels(bars4)\n",
    "\n",
    "# Show plot\n",
    "plt.show()\n"
   ]
  },
  {
   "cell_type": "markdown",
   "metadata": {},
   "source": [
    "# 5. Summary Report"
   ]
  },
  {
   "cell_type": "code",
   "execution_count": 40,
   "metadata": {},
   "outputs": [
    {
     "data": {
      "text/markdown": [
       "\n",
       "# Brief Summary Report \n",
       "## (Complete report in README file)\n",
       "## Sentiment Analysis with Traditional Machine Learning\n",
       "\n",
       "## Introduction\n",
       "This project aims to build a machine learning model to perform sentiment analysis on a large dataset of movie reviews. The goal is to classify each review as positive or negative, handle class imbalance, and evaluate the model's performance.\n",
       "\n",
       "## Approach\n",
       "\n",
       "### Data Preprocessing\n",
       "1. Loaded and preprocessed the dataset.\n",
       "2. Cleaned the text data by removing stop words, punctuation, and performing lemmatization.\n",
       "3. Converted the text data into numerical features using TF-IDF.\n",
       "\n",
       "### Model Selection and Training\n",
       "1. Experimented with Logistic Regression, Support Vector Machine (SVM), and Gradient Boosting (XGBoost).\n",
       "\n",
       "### Class Imbalance Handling\n",
       "1. Used class weights to handle class imbalance.\n",
       "\n",
       "### Evaluation\n",
       "1. Evaluated the models on the test set using accuracy, precision, recall, and F1-score.\n",
       "\n",
       "## Results\n",
       "\n",
       "### Logistic Regression\n",
       "- Accuracy: 0.87952\n",
       "- Precision: 0.87861133280127690\n",
       "- Recall: 0.88072\n",
       "- F1 Score: 0.87966440271673996\n",
       "\n",
       "### SVM\n",
       "- Accuracy: 0.88024\n",
       "- Precision: 0.88097146521320935\n",
       "- Recall: 0.87928\n",
       "- F1 Score: 0.88012491992312625\n",
       "\n",
       "### XGBoost\n",
       "- Accuracy: 0.85440\n",
       "- Precision: 0.84261407579273007\n",
       "- Recall: 0.87160\n",
       "- F1 Score: 0.85686197404640185\n",
       "\n",
       "## Analysis\n",
       "\n",
       "### Logistic Regression vs. SVM\n",
       "- SVM had slightly better performance metrics due to its ability to find an optimal separating hyperplane, leading to better generalization.\n",
       "- Both models performed well, likely due to the linear separability of the data after TF-IDF transformation.\n",
       "\n",
       "### XGBoost\n",
       "- XGBoost requires careful tuning. The default parameters might not have been optimal for this dataset.\n",
       "- Potential overfitting without proper tuning, leading to lower performance on the test data.\n",
       "- Further adjustments and techniques might be needed for better handling of class imbalance.\n",
       "\n",
       "## Challenges\n",
       "1. Preprocessing the text data.\n",
       "2. Handling class imbalance.\n",
       "\n",
       "## Solutions\n",
       "1. Used NLTK for text preprocessing.\n",
       "2. Applied class weights to the models.\n",
       "\n",
       "## Conclusion\n",
       "The SVM model performed the best overall in terms of accuracy, precision, and F1 score. Class imbalance was effectively handled using class weights. Logistic Regression also performed very well, while the XGBoost model had lower performance compared to the other two.\n"
      ],
      "text/plain": [
       "<IPython.core.display.Markdown object>"
      ]
     },
     "metadata": {},
     "output_type": "display_data"
    }
   ],
   "source": [
    "from IPython.display import Markdown\n",
    "\n",
    "report = \"\"\"\n",
    "# Brief Summary Report \n",
    "## (Complete report in README file)\n",
    "## Sentiment Analysis with Traditional Machine Learning\n",
    "\n",
    "## Introduction\n",
    "This project aims to build a machine learning model to perform sentiment analysis on a large dataset of movie reviews. The goal is to classify each review as positive or negative, handle class imbalance, and evaluate the model's performance.\n",
    "\n",
    "## Approach\n",
    "\n",
    "### Data Preprocessing\n",
    "1. Loaded and preprocessed the dataset.\n",
    "2. Cleaned the text data by removing stop words, punctuation, and performing lemmatization.\n",
    "3. Converted the text data into numerical features using TF-IDF.\n",
    "\n",
    "### Model Selection and Training\n",
    "1. Experimented with Logistic Regression, Support Vector Machine (SVM), and Gradient Boosting (XGBoost).\n",
    "\n",
    "### Class Imbalance Handling\n",
    "1. Used class weights to handle class imbalance.\n",
    "\n",
    "### Evaluation\n",
    "1. Evaluated the models on the test set using accuracy, precision, recall, and F1-score.\n",
    "\n",
    "## Results\n",
    "\n",
    "### Logistic Regression\n",
    "- Accuracy: {:.5f}\n",
    "- Precision: {:.17f}\n",
    "- Recall: {:.5f}\n",
    "- F1 Score: {:.17f}\n",
    "\n",
    "### SVM\n",
    "- Accuracy: {:.5f}\n",
    "- Precision: {:.17f}\n",
    "- Recall: {:.5f}\n",
    "- F1 Score: {:.17f}\n",
    "\n",
    "### XGBoost\n",
    "- Accuracy: {:.5f}\n",
    "- Precision: {:.17f}\n",
    "- Recall: {:.5f}\n",
    "- F1 Score: {:.17f}\n",
    "\n",
    "## Analysis\n",
    "\n",
    "### Logistic Regression vs. SVM\n",
    "- SVM had slightly better performance metrics due to its ability to find an optimal separating hyperplane, leading to better generalization.\n",
    "- Both models performed well, likely due to the linear separability of the data after TF-IDF transformation.\n",
    "\n",
    "### XGBoost\n",
    "- XGBoost requires careful tuning. The default parameters might not have been optimal for this dataset.\n",
    "- Potential overfitting without proper tuning, leading to lower performance on the test data.\n",
    "- Further adjustments and techniques might be needed for better handling of class imbalance.\n",
    "\n",
    "## Challenges\n",
    "1. Preprocessing the text data.\n",
    "2. Handling class imbalance.\n",
    "\n",
    "## Solutions\n",
    "1. Used NLTK for text preprocessing.\n",
    "2. Applied class weights to the models.\n",
    "\n",
    "## Conclusion\n",
    "The SVM model performed the best overall in terms of accuracy, precision, and F1 score. Class imbalance was effectively handled using class weights. Logistic Regression also performed very well, while the XGBoost model had lower performance compared to the other two.\n",
    "\"\"\".format(\n",
    "    acc_log_reg, prec_log_reg, rec_log_reg, f1_log_reg,\n",
    "    acc_svm, prec_svm, rec_svm, f1_svm,\n",
    "    acc_xgb, prec_xgb, rec_xgb, f1_xgb\n",
    ")\n",
    "\n",
    "display(Markdown(report))\n"
   ]
  },
  {
   "cell_type": "markdown",
   "metadata": {},
   "source": [
    "# 6.1 Testing Model Predictions with Labeled Data\n",
    "\n",
    "In this cell, we load a few sample reviews from the test dataset, preprocess them, and then use the trained models to predict their sentiments. We then compare the predictions with the true labels to evaluate the model's performance on these samples.\n",
    "\n"
   ]
  },
  {
   "cell_type": "code",
   "execution_count": 26,
   "metadata": {},
   "outputs": [
    {
     "name": "stdout",
     "output_type": "stream",
     "text": [
      "Testing Logistic Regression model:\n",
      "Logistic Regression - Sample 1:\n",
      "File: 6839_8.txt\n",
      "Prediction: Positive (1), True Label: Positive (1) - Correct\n",
      "Review: This was the first directing job by Sebastian Gutierrez, the writer of Snakes on a Plane and Gothika. Anyone who has read my reviews knows that I love capers, and this was a doozy. A kidnapping and a woman shot in the process. The FBI has Emma Thompson on the kidnapping case and the Police Chief (Roscoe Lee Browne) assigns Alan Rickman to solve the murder, which happens to be a Senator's (Hal Holbrook) wife. These two make an outstanding pair as they work together.<br /><br />The kidnappers/murderers have lovers Simon Baker (Land of the Dead) and the ultra hot Carla Gugino (Sin City), along with a couple of partners. They kidnapped a hotshot computer mogul and they run his accountant all over town before they get the dough. Things go fast from there as new twists and turns are brought in. The whole thing is brilliant and definitely a \"piss in your pants because you can't go to the bathroom or you'll miss something\" thrill.<br /><br />Now, to be completely honest, I would have given this movie a 10 if there had been more of the movie the security guard was watching in the opening. I would have loved to see more of Beverly Hotsprings and Yvette Lera, but, hey, that wasn't part of the caper; just icing on the cake.<br /><br />Thompson and Rickman should definitely make more movies together. One treat:<br /><br />Agent Hawkins: So fill me in. Detective Friedman: That remark could be misconstrued as sexual harassment, Agent Hawkins. Agent Hawkins: Let's get it out of the way then: you've never worked under a female superior before. I got to where I am by pushing paper and playing nice - I've never actually fired a gun before, I'm only in this job to prove to my father I'm not a coward. I give decent head, so I got promoted before all the worthy candidates, all of them men, all of them equally gifted at fellatio but there was a gender quota to fill. I'm also stupid and idealistic; you are hard and cynical, and usually right. I am secretly in love with you but I have a hard time showing it. Did I skip anything?<br /><br />Damn, that's great dialog! Gutierrez not only directs a great movie, but he can write too!<br /><br />And, did I say Carla Gugino was hot?<br /><br />Put this on your list.\n",
      "\n",
      "Logistic Regression - Sample 2:\n",
      "File: 10167_9.txt\n",
      "Prediction: Positive (1), True Label: Positive (1) - Correct\n",
      "Review: A film that tends to get buried under prejudice and preconception - It's a remake! Doris Day is in it! She sings! - Hitchcock's second crack at 'The Man Who Knew Too Much' is his most under-rated film, and arguably a fully fledged masterpiece in its own right.<br /><br />This is, in more ways than one, Doris Day's film. Not only does she give the finest performance of her career, more than holding her own against James Stewart, but the whole film is subtly structured around her character rather than his. This is, after all, a film in which music is both motif and plot device. What better casting than the most popular singer of her generation? Consider: Day's Jo McKenna has given up her career on the stage in order to settle down with her husband and raise their son. This seems to be a mutual decision, and she doesn't appear to be unhappy. But look at the way Stewart teases her in the horse-drawn carriage over her concerns about Louis Bernard, implying that she is jealous that Bernard wasn't asking her any questions about her career. This is clearly a recurrent joke between them - she responds with a 'har-de-har-har' that denotes the familiarity of this gag, suggesting that she has a certain latent resentment about her confinement, and that they both realise it.<br /><br />After their son has been kidnapped, Stewart insists on doping her before giving her the news. This is a cruel scene, brilliantly played by both actors, which illustrates the power imbalance in their marriage - he is seeking to control and subdue her reactions, in essence using his professional knowledge to suppress her voice in the marriage just as his medical career has suppressed her singing career.<br /><br />The potency of that voice is demonstrated in the Ambrose Chapel sequence, when she has to reign in its highly trained clarity and volume to blend in with the congregation of female drudges - they almost act as a warning of what will become of her if she continues to suppress her talent. At the Albert Hall, it is her need to cry out, to exercise those impressive lungs, that saves a man's life, and in the Embassy finale, it is her talent and reputation that allows them to locate their son. By contrast, all of Stewart's masculine activity is counterproductive - his visit to the taxidermist is a dead end, he gets left behind at the church whilst everyone else moves on to the Albert Hall, and his efforts there only succeed in getting the assassin killed, thus depriving the Police of potentially useful information. It is only when his action is joined to his wife's voice, in the rescue of Hank from the embassy, that he actually succeeds in doing something useful.<br /><br />Far from being forced into the film to give Day an opportunity to sing, 'Que Sera Sera' acts as the first musical device in the film, foreshadowing the nightmare that is about to engulf the McKennas; 'the future's not ours to see' indeed. It also neatly prepares the way for the finale, in which the close bond mother and son share through music will allow Doris to save the day.<br /><br />The most famous sequence in the film makes music the central feature - the build up to the assassination attempt in the Albert Hall. This lengthy wordless sequence may be the single most extraordinary thing Hitchcock committed to film, the ultimate expression of his belief that films should be stories told visually. We see people conduct conversations in this sequence, but we never hear a word they say. We don't need to - the images say everything. It is also his most exquisite suspense sequence, with the pieces moving slowly into place as the music builds. The editing is incredibly tight, matched to the music perfectly. There isn't a frame out of place - anything that doesn't relate directly to the assassination is giving the viewer a sense of the environment, the geography in which all this is playing out. It builds slowly, but by the end the suspense is nearly unbearable. When Jo screams, it isn't just a relief for her, but for the audience.<br /><br />The Ambrose Chapel sequence is witty, and particularly effective for anyone who has had to sit through a service at a particularly stick-in-the-mud Nonconformist church. The Embassy sequence seems a little flat after the Albert Hall one that preceded it on first viewing, but second time around actually seems more effective, with the final walk at gunpoint really benefiting from the gorgeous use of Day singing in the background, reminiscent of the music-as-ambient-noise in 'Rear Window'. The score as a whole is subtle, allowing the music from on-screen sources to be foregrounded effectively.<br /><br />Bernard Miles is a low-key villain, a little banal, but with a dry wit. He's outshone by Brenda de Banzie as his wife, who walks a fine line between sinister and sympathetic. Just look at the way she smokes a cigarette whilst her husband preps the assassin - her stance is pure gangster's moll, belying the Middle-England exterior, but she clearly has a soft side, and possibly maternal feelings towards Hank.<br /><br />Stewart is excellent, although if Hitchcock really did always cast him as 'Everyman', as the Director's daughter seems to think, then it confirms that Hitchcock had a cynical view of his audience. Stewart played a hypocritical intellectual who espoused fascist ideology in Rope, a voyeur who mistreated his girlfriend in Rear Window and an obsessive necrophiliac in Vertigo. Day is nothing short of phenomenal. Just look at her reaction to the news that her son has been kidnapped - she never overdoes anything, but neither does she sell it short. This is one of Hitchcock's most emotionally effective films. He never lets us forget what the stakes are for the McKennas; they feel the most fully human of all his central characters.\n",
      "\n",
      "Logistic Regression - Sample 3:\n",
      "File: 11725_10.txt\n",
      "Prediction: Positive (1), True Label: Positive (1) - Correct\n",
      "Review: I'm a fan of B grade 80s films in which the hero is a bit of a bad guy, a strong male, who finds love - and this film delivers!<br /><br />Towards the finish you do not know how Sharky will not be killed (and doesn't he take a beating! Realistically portrayed I believe). However he does and it's not via some overdone 'Die Hard' stunt. The 'past it' team he works with comes together, hence the title. His team are all characters - people on the sideline at work because they don't quite conform. These portrayals are funny and sympathetic - they have a real feeling to them. They're up against an iceman of an assassin, with a good team of his own. The result is a great film noir.\n",
      "\n",
      "Logistic Regression - Sample 4:\n",
      "File: 489_1.txt\n",
      "Prediction: Negative (0), True Label: Negative (0) - Correct\n",
      "Review: Contains Spoilers<br /><br />But if you weren't dropped on the head as a child and then used as a football then you'll agree with me that this is one of the worst and yet hilarious series ever made. Centreing round a woman who as a young girl was beaten by her father who also killed her mother, she spends her time drawing, but wait for it, then she becomes her superhero drawings and goes on to fight crime, therefore being \"drawn by pain\", so clever. The story itself is actually OK, but it's just how it's done, Jesse the writer and director has no idea how to write a script, just listen to a monologue featuring the 8 year old version of the hero and it sounds like it was written by a 30 year old man, while her dad, who sports a great moustache, just walks around the house all day while looking angry, just showing how bad the characterisation is, especially the bit where he gets angry in the first episode and begins repeating the phrase \"no more\" while holding his wife's head before killing her using the marble work surface. The following bang sound effect and just his terrible acting as all he can convey is angry just is brilliant, including after where he goes to beat his daughter using his belt which is all done with him moaning and looking angry in slow motion. The episodes themselves could contain easily a good clean script ranging over 5 minutes, but oh no Jesse doesn't want this. Little Jesse, is shitting out post modernism as if he'd just eaten Donnie Darko and then douched himself to death. Pointless camera jerks, all at weird angles, overly repeated lines and even pointless sequences just muddled up every now and again to fill the overlong episodes. In conclusion the idea isn't bad it's just how it's done, also there is a great character of a fat guy on a bench who doesn't come up enough and is great, i just wanna hug his Lil chubby cheeks cause they look so soft. The character development is non existent as the main character just says the first philosophical sounding thing that comes to her head although they all contradict one another. But all in all, mainly s**t<br /><br />Indiana Jones 4 however is much better, Type \"Jeeharv\" into you-tube as well, the results may make you weep at the beauty of the world also you'll hear a lot of cheap sex jokes, mostly gay ones.\n",
      "\n",
      "Logistic Regression - Sample 5:\n",
      "File: 6331_1.txt\n",
      "Prediction: Negative (0), True Label: Negative (0) - Correct\n",
      "Review: La Ragazza del Vagone Letto, or Terror Express! as it was called on the version I saw, starts as various passengers board a long distance train. Three thuggish idiots, Dave, Phil & Ernie (Carlo De Mejo) board & it's clear that they're there to cause trouble as they intimidate & verbally abuse the other passengers & staff. As the train speeds along things turn nasty when a prostitute named Juliette (Silvia Dionisio) refuses to have sex with Dave, he & his mates decide to hold the entire train hostage so they can have an orgy with Juliette &, well not much else actually happens apart from some hero cop & his prisoner who set about saving the day. Erm, that's it really...<br /><br />This Italian production was directed by Ferdinando Baldi & is complete total & utter crap from start to finish. The script by George Eastman as Luigi Montefiori could just as easily be described as a really boring porno as much as a horror/thriller. It is tediously slow, it's 35 minutes before anything even remotely sleazy happens & as a whole the film lacks the sort of exploitation elements that Italian sleaze & horror was delivering at that time. The film can be compared to another Italian production the infinitely better The House on the Edge of the Park (1980) made the same year, it's a very broad comparison though as everything that made The House on the Edge of the Park the notorious film that it is is absent from La Ragazza del Vagone Letto, there's no blood, no gore, almost no violence, there's only a couple of really tame rapes, the story has no twists or turns & as it's incredibly boring to watch. Italian sleaze & horror from the late 70's & early 80's isn't known for it's strong story lines or great scripts but this films really does scrape the bottom-of-the-barrel on all counts. The character's are awful, the film spends the first 30 plus minutes building them up & giving some background as to why they're on the train but this is all quickly forgotten & comes to absolutely nothing. I hated the lame ending as well & I don't know if I missed something but was any sort of reasonable explanation given as to why these three lamebrains would hijack a train? I don't think there was, was there? I'm sorry but because your angry at a prostitute is not enough of a reason, surely the filmmakers could have come up with something a bit more substantial & interesting if not more plausible. In my opinion this film stinks, it's as simple & straight forward as that I'm afraid.<br /><br />Director Baldi does an OK job, to be fair he only has one corridor & a few train compartments to work with so I'll cut him some slack, having said that the film does become very repetitive. There is no style & he films the sex scenes like a bad soft core porno complete with awful romantic sounding piano music. There is NOT ONE SINGLE DROP OF BLOOD SPILT IN THE ENTIRE FILM, that's right not one single drop. Forget about any gore or violence as you'll be very disappointed if you do, like I did. There are a couple of rapes but they're amateurishly staged & have zero impact, the nasty exploitation & sleaze of say I Spit on Your Grave (1978) or The Last House on the Left (1972) is not here.<br /><br />Technically La Ragazza del Vagone Letto is OK & it's quite well made on what must have been a low budget but the setting obviously helped keep the cost down to a minimum. The acting is poor as usual, although since it was dubbed the original performances have been lost. Fans of Italian horror will recognise a lot of the voices here.<br /><br />La Ragazza del Vagone Letto is a terrible film, it's just my opinion but I was bored to tears waiting for something to happen & when it eventually never I felt cheated, I want those 80 minutes of my life back. This piece of crap isn't even fit to grace the 99p VHS bargain bin in your local Blockbuster, one to avoid.\n",
      "\n",
      "\n",
      "Testing SVM model:\n",
      "SVM - Sample 1:\n",
      "File: 6839_8.txt\n",
      "Prediction: Positive (1), True Label: Positive (1) - Correct\n",
      "Review: This was the first directing job by Sebastian Gutierrez, the writer of Snakes on a Plane and Gothika. Anyone who has read my reviews knows that I love capers, and this was a doozy. A kidnapping and a woman shot in the process. The FBI has Emma Thompson on the kidnapping case and the Police Chief (Roscoe Lee Browne) assigns Alan Rickman to solve the murder, which happens to be a Senator's (Hal Holbrook) wife. These two make an outstanding pair as they work together.<br /><br />The kidnappers/murderers have lovers Simon Baker (Land of the Dead) and the ultra hot Carla Gugino (Sin City), along with a couple of partners. They kidnapped a hotshot computer mogul and they run his accountant all over town before they get the dough. Things go fast from there as new twists and turns are brought in. The whole thing is brilliant and definitely a \"piss in your pants because you can't go to the bathroom or you'll miss something\" thrill.<br /><br />Now, to be completely honest, I would have given this movie a 10 if there had been more of the movie the security guard was watching in the opening. I would have loved to see more of Beverly Hotsprings and Yvette Lera, but, hey, that wasn't part of the caper; just icing on the cake.<br /><br />Thompson and Rickman should definitely make more movies together. One treat:<br /><br />Agent Hawkins: So fill me in. Detective Friedman: That remark could be misconstrued as sexual harassment, Agent Hawkins. Agent Hawkins: Let's get it out of the way then: you've never worked under a female superior before. I got to where I am by pushing paper and playing nice - I've never actually fired a gun before, I'm only in this job to prove to my father I'm not a coward. I give decent head, so I got promoted before all the worthy candidates, all of them men, all of them equally gifted at fellatio but there was a gender quota to fill. I'm also stupid and idealistic; you are hard and cynical, and usually right. I am secretly in love with you but I have a hard time showing it. Did I skip anything?<br /><br />Damn, that's great dialog! Gutierrez not only directs a great movie, but he can write too!<br /><br />And, did I say Carla Gugino was hot?<br /><br />Put this on your list.\n",
      "\n",
      "SVM - Sample 2:\n",
      "File: 10167_9.txt\n",
      "Prediction: Positive (1), True Label: Positive (1) - Correct\n",
      "Review: A film that tends to get buried under prejudice and preconception - It's a remake! Doris Day is in it! She sings! - Hitchcock's second crack at 'The Man Who Knew Too Much' is his most under-rated film, and arguably a fully fledged masterpiece in its own right.<br /><br />This is, in more ways than one, Doris Day's film. Not only does she give the finest performance of her career, more than holding her own against James Stewart, but the whole film is subtly structured around her character rather than his. This is, after all, a film in which music is both motif and plot device. What better casting than the most popular singer of her generation? Consider: Day's Jo McKenna has given up her career on the stage in order to settle down with her husband and raise their son. This seems to be a mutual decision, and she doesn't appear to be unhappy. But look at the way Stewart teases her in the horse-drawn carriage over her concerns about Louis Bernard, implying that she is jealous that Bernard wasn't asking her any questions about her career. This is clearly a recurrent joke between them - she responds with a 'har-de-har-har' that denotes the familiarity of this gag, suggesting that she has a certain latent resentment about her confinement, and that they both realise it.<br /><br />After their son has been kidnapped, Stewart insists on doping her before giving her the news. This is a cruel scene, brilliantly played by both actors, which illustrates the power imbalance in their marriage - he is seeking to control and subdue her reactions, in essence using his professional knowledge to suppress her voice in the marriage just as his medical career has suppressed her singing career.<br /><br />The potency of that voice is demonstrated in the Ambrose Chapel sequence, when she has to reign in its highly trained clarity and volume to blend in with the congregation of female drudges - they almost act as a warning of what will become of her if she continues to suppress her talent. At the Albert Hall, it is her need to cry out, to exercise those impressive lungs, that saves a man's life, and in the Embassy finale, it is her talent and reputation that allows them to locate their son. By contrast, all of Stewart's masculine activity is counterproductive - his visit to the taxidermist is a dead end, he gets left behind at the church whilst everyone else moves on to the Albert Hall, and his efforts there only succeed in getting the assassin killed, thus depriving the Police of potentially useful information. It is only when his action is joined to his wife's voice, in the rescue of Hank from the embassy, that he actually succeeds in doing something useful.<br /><br />Far from being forced into the film to give Day an opportunity to sing, 'Que Sera Sera' acts as the first musical device in the film, foreshadowing the nightmare that is about to engulf the McKennas; 'the future's not ours to see' indeed. It also neatly prepares the way for the finale, in which the close bond mother and son share through music will allow Doris to save the day.<br /><br />The most famous sequence in the film makes music the central feature - the build up to the assassination attempt in the Albert Hall. This lengthy wordless sequence may be the single most extraordinary thing Hitchcock committed to film, the ultimate expression of his belief that films should be stories told visually. We see people conduct conversations in this sequence, but we never hear a word they say. We don't need to - the images say everything. It is also his most exquisite suspense sequence, with the pieces moving slowly into place as the music builds. The editing is incredibly tight, matched to the music perfectly. There isn't a frame out of place - anything that doesn't relate directly to the assassination is giving the viewer a sense of the environment, the geography in which all this is playing out. It builds slowly, but by the end the suspense is nearly unbearable. When Jo screams, it isn't just a relief for her, but for the audience.<br /><br />The Ambrose Chapel sequence is witty, and particularly effective for anyone who has had to sit through a service at a particularly stick-in-the-mud Nonconformist church. The Embassy sequence seems a little flat after the Albert Hall one that preceded it on first viewing, but second time around actually seems more effective, with the final walk at gunpoint really benefiting from the gorgeous use of Day singing in the background, reminiscent of the music-as-ambient-noise in 'Rear Window'. The score as a whole is subtle, allowing the music from on-screen sources to be foregrounded effectively.<br /><br />Bernard Miles is a low-key villain, a little banal, but with a dry wit. He's outshone by Brenda de Banzie as his wife, who walks a fine line between sinister and sympathetic. Just look at the way she smokes a cigarette whilst her husband preps the assassin - her stance is pure gangster's moll, belying the Middle-England exterior, but she clearly has a soft side, and possibly maternal feelings towards Hank.<br /><br />Stewart is excellent, although if Hitchcock really did always cast him as 'Everyman', as the Director's daughter seems to think, then it confirms that Hitchcock had a cynical view of his audience. Stewart played a hypocritical intellectual who espoused fascist ideology in Rope, a voyeur who mistreated his girlfriend in Rear Window and an obsessive necrophiliac in Vertigo. Day is nothing short of phenomenal. Just look at her reaction to the news that her son has been kidnapped - she never overdoes anything, but neither does she sell it short. This is one of Hitchcock's most emotionally effective films. He never lets us forget what the stakes are for the McKennas; they feel the most fully human of all his central characters.\n",
      "\n",
      "SVM - Sample 3:\n",
      "File: 11725_10.txt\n",
      "Prediction: Positive (1), True Label: Positive (1) - Correct\n",
      "Review: I'm a fan of B grade 80s films in which the hero is a bit of a bad guy, a strong male, who finds love - and this film delivers!<br /><br />Towards the finish you do not know how Sharky will not be killed (and doesn't he take a beating! Realistically portrayed I believe). However he does and it's not via some overdone 'Die Hard' stunt. The 'past it' team he works with comes together, hence the title. His team are all characters - people on the sideline at work because they don't quite conform. These portrayals are funny and sympathetic - they have a real feeling to them. They're up against an iceman of an assassin, with a good team of his own. The result is a great film noir.\n",
      "\n",
      "SVM - Sample 4:\n",
      "File: 489_1.txt\n",
      "Prediction: Negative (0), True Label: Negative (0) - Correct\n",
      "Review: Contains Spoilers<br /><br />But if you weren't dropped on the head as a child and then used as a football then you'll agree with me that this is one of the worst and yet hilarious series ever made. Centreing round a woman who as a young girl was beaten by her father who also killed her mother, she spends her time drawing, but wait for it, then she becomes her superhero drawings and goes on to fight crime, therefore being \"drawn by pain\", so clever. The story itself is actually OK, but it's just how it's done, Jesse the writer and director has no idea how to write a script, just listen to a monologue featuring the 8 year old version of the hero and it sounds like it was written by a 30 year old man, while her dad, who sports a great moustache, just walks around the house all day while looking angry, just showing how bad the characterisation is, especially the bit where he gets angry in the first episode and begins repeating the phrase \"no more\" while holding his wife's head before killing her using the marble work surface. The following bang sound effect and just his terrible acting as all he can convey is angry just is brilliant, including after where he goes to beat his daughter using his belt which is all done with him moaning and looking angry in slow motion. The episodes themselves could contain easily a good clean script ranging over 5 minutes, but oh no Jesse doesn't want this. Little Jesse, is shitting out post modernism as if he'd just eaten Donnie Darko and then douched himself to death. Pointless camera jerks, all at weird angles, overly repeated lines and even pointless sequences just muddled up every now and again to fill the overlong episodes. In conclusion the idea isn't bad it's just how it's done, also there is a great character of a fat guy on a bench who doesn't come up enough and is great, i just wanna hug his Lil chubby cheeks cause they look so soft. The character development is non existent as the main character just says the first philosophical sounding thing that comes to her head although they all contradict one another. But all in all, mainly s**t<br /><br />Indiana Jones 4 however is much better, Type \"Jeeharv\" into you-tube as well, the results may make you weep at the beauty of the world also you'll hear a lot of cheap sex jokes, mostly gay ones.\n",
      "\n",
      "SVM - Sample 5:\n",
      "File: 6331_1.txt\n",
      "Prediction: Negative (0), True Label: Negative (0) - Correct\n",
      "Review: La Ragazza del Vagone Letto, or Terror Express! as it was called on the version I saw, starts as various passengers board a long distance train. Three thuggish idiots, Dave, Phil & Ernie (Carlo De Mejo) board & it's clear that they're there to cause trouble as they intimidate & verbally abuse the other passengers & staff. As the train speeds along things turn nasty when a prostitute named Juliette (Silvia Dionisio) refuses to have sex with Dave, he & his mates decide to hold the entire train hostage so they can have an orgy with Juliette &, well not much else actually happens apart from some hero cop & his prisoner who set about saving the day. Erm, that's it really...<br /><br />This Italian production was directed by Ferdinando Baldi & is complete total & utter crap from start to finish. The script by George Eastman as Luigi Montefiori could just as easily be described as a really boring porno as much as a horror/thriller. It is tediously slow, it's 35 minutes before anything even remotely sleazy happens & as a whole the film lacks the sort of exploitation elements that Italian sleaze & horror was delivering at that time. The film can be compared to another Italian production the infinitely better The House on the Edge of the Park (1980) made the same year, it's a very broad comparison though as everything that made The House on the Edge of the Park the notorious film that it is is absent from La Ragazza del Vagone Letto, there's no blood, no gore, almost no violence, there's only a couple of really tame rapes, the story has no twists or turns & as it's incredibly boring to watch. Italian sleaze & horror from the late 70's & early 80's isn't known for it's strong story lines or great scripts but this films really does scrape the bottom-of-the-barrel on all counts. The character's are awful, the film spends the first 30 plus minutes building them up & giving some background as to why they're on the train but this is all quickly forgotten & comes to absolutely nothing. I hated the lame ending as well & I don't know if I missed something but was any sort of reasonable explanation given as to why these three lamebrains would hijack a train? I don't think there was, was there? I'm sorry but because your angry at a prostitute is not enough of a reason, surely the filmmakers could have come up with something a bit more substantial & interesting if not more plausible. In my opinion this film stinks, it's as simple & straight forward as that I'm afraid.<br /><br />Director Baldi does an OK job, to be fair he only has one corridor & a few train compartments to work with so I'll cut him some slack, having said that the film does become very repetitive. There is no style & he films the sex scenes like a bad soft core porno complete with awful romantic sounding piano music. There is NOT ONE SINGLE DROP OF BLOOD SPILT IN THE ENTIRE FILM, that's right not one single drop. Forget about any gore or violence as you'll be very disappointed if you do, like I did. There are a couple of rapes but they're amateurishly staged & have zero impact, the nasty exploitation & sleaze of say I Spit on Your Grave (1978) or The Last House on the Left (1972) is not here.<br /><br />Technically La Ragazza del Vagone Letto is OK & it's quite well made on what must have been a low budget but the setting obviously helped keep the cost down to a minimum. The acting is poor as usual, although since it was dubbed the original performances have been lost. Fans of Italian horror will recognise a lot of the voices here.<br /><br />La Ragazza del Vagone Letto is a terrible film, it's just my opinion but I was bored to tears waiting for something to happen & when it eventually never I felt cheated, I want those 80 minutes of my life back. This piece of crap isn't even fit to grace the 99p VHS bargain bin in your local Blockbuster, one to avoid.\n",
      "\n",
      "\n",
      "Testing XGBoost model:\n",
      "XGBoost - Sample 1:\n",
      "File: 6839_8.txt\n",
      "Prediction: Positive (1), True Label: Positive (1) - Correct\n",
      "Review: This was the first directing job by Sebastian Gutierrez, the writer of Snakes on a Plane and Gothika. Anyone who has read my reviews knows that I love capers, and this was a doozy. A kidnapping and a woman shot in the process. The FBI has Emma Thompson on the kidnapping case and the Police Chief (Roscoe Lee Browne) assigns Alan Rickman to solve the murder, which happens to be a Senator's (Hal Holbrook) wife. These two make an outstanding pair as they work together.<br /><br />The kidnappers/murderers have lovers Simon Baker (Land of the Dead) and the ultra hot Carla Gugino (Sin City), along with a couple of partners. They kidnapped a hotshot computer mogul and they run his accountant all over town before they get the dough. Things go fast from there as new twists and turns are brought in. The whole thing is brilliant and definitely a \"piss in your pants because you can't go to the bathroom or you'll miss something\" thrill.<br /><br />Now, to be completely honest, I would have given this movie a 10 if there had been more of the movie the security guard was watching in the opening. I would have loved to see more of Beverly Hotsprings and Yvette Lera, but, hey, that wasn't part of the caper; just icing on the cake.<br /><br />Thompson and Rickman should definitely make more movies together. One treat:<br /><br />Agent Hawkins: So fill me in. Detective Friedman: That remark could be misconstrued as sexual harassment, Agent Hawkins. Agent Hawkins: Let's get it out of the way then: you've never worked under a female superior before. I got to where I am by pushing paper and playing nice - I've never actually fired a gun before, I'm only in this job to prove to my father I'm not a coward. I give decent head, so I got promoted before all the worthy candidates, all of them men, all of them equally gifted at fellatio but there was a gender quota to fill. I'm also stupid and idealistic; you are hard and cynical, and usually right. I am secretly in love with you but I have a hard time showing it. Did I skip anything?<br /><br />Damn, that's great dialog! Gutierrez not only directs a great movie, but he can write too!<br /><br />And, did I say Carla Gugino was hot?<br /><br />Put this on your list.\n",
      "\n",
      "XGBoost - Sample 2:\n",
      "File: 10167_9.txt\n",
      "Prediction: Positive (1), True Label: Positive (1) - Correct\n",
      "Review: A film that tends to get buried under prejudice and preconception - It's a remake! Doris Day is in it! She sings! - Hitchcock's second crack at 'The Man Who Knew Too Much' is his most under-rated film, and arguably a fully fledged masterpiece in its own right.<br /><br />This is, in more ways than one, Doris Day's film. Not only does she give the finest performance of her career, more than holding her own against James Stewart, but the whole film is subtly structured around her character rather than his. This is, after all, a film in which music is both motif and plot device. What better casting than the most popular singer of her generation? Consider: Day's Jo McKenna has given up her career on the stage in order to settle down with her husband and raise their son. This seems to be a mutual decision, and she doesn't appear to be unhappy. But look at the way Stewart teases her in the horse-drawn carriage over her concerns about Louis Bernard, implying that she is jealous that Bernard wasn't asking her any questions about her career. This is clearly a recurrent joke between them - she responds with a 'har-de-har-har' that denotes the familiarity of this gag, suggesting that she has a certain latent resentment about her confinement, and that they both realise it.<br /><br />After their son has been kidnapped, Stewart insists on doping her before giving her the news. This is a cruel scene, brilliantly played by both actors, which illustrates the power imbalance in their marriage - he is seeking to control and subdue her reactions, in essence using his professional knowledge to suppress her voice in the marriage just as his medical career has suppressed her singing career.<br /><br />The potency of that voice is demonstrated in the Ambrose Chapel sequence, when she has to reign in its highly trained clarity and volume to blend in with the congregation of female drudges - they almost act as a warning of what will become of her if she continues to suppress her talent. At the Albert Hall, it is her need to cry out, to exercise those impressive lungs, that saves a man's life, and in the Embassy finale, it is her talent and reputation that allows them to locate their son. By contrast, all of Stewart's masculine activity is counterproductive - his visit to the taxidermist is a dead end, he gets left behind at the church whilst everyone else moves on to the Albert Hall, and his efforts there only succeed in getting the assassin killed, thus depriving the Police of potentially useful information. It is only when his action is joined to his wife's voice, in the rescue of Hank from the embassy, that he actually succeeds in doing something useful.<br /><br />Far from being forced into the film to give Day an opportunity to sing, 'Que Sera Sera' acts as the first musical device in the film, foreshadowing the nightmare that is about to engulf the McKennas; 'the future's not ours to see' indeed. It also neatly prepares the way for the finale, in which the close bond mother and son share through music will allow Doris to save the day.<br /><br />The most famous sequence in the film makes music the central feature - the build up to the assassination attempt in the Albert Hall. This lengthy wordless sequence may be the single most extraordinary thing Hitchcock committed to film, the ultimate expression of his belief that films should be stories told visually. We see people conduct conversations in this sequence, but we never hear a word they say. We don't need to - the images say everything. It is also his most exquisite suspense sequence, with the pieces moving slowly into place as the music builds. The editing is incredibly tight, matched to the music perfectly. There isn't a frame out of place - anything that doesn't relate directly to the assassination is giving the viewer a sense of the environment, the geography in which all this is playing out. It builds slowly, but by the end the suspense is nearly unbearable. When Jo screams, it isn't just a relief for her, but for the audience.<br /><br />The Ambrose Chapel sequence is witty, and particularly effective for anyone who has had to sit through a service at a particularly stick-in-the-mud Nonconformist church. The Embassy sequence seems a little flat after the Albert Hall one that preceded it on first viewing, but second time around actually seems more effective, with the final walk at gunpoint really benefiting from the gorgeous use of Day singing in the background, reminiscent of the music-as-ambient-noise in 'Rear Window'. The score as a whole is subtle, allowing the music from on-screen sources to be foregrounded effectively.<br /><br />Bernard Miles is a low-key villain, a little banal, but with a dry wit. He's outshone by Brenda de Banzie as his wife, who walks a fine line between sinister and sympathetic. Just look at the way she smokes a cigarette whilst her husband preps the assassin - her stance is pure gangster's moll, belying the Middle-England exterior, but she clearly has a soft side, and possibly maternal feelings towards Hank.<br /><br />Stewart is excellent, although if Hitchcock really did always cast him as 'Everyman', as the Director's daughter seems to think, then it confirms that Hitchcock had a cynical view of his audience. Stewart played a hypocritical intellectual who espoused fascist ideology in Rope, a voyeur who mistreated his girlfriend in Rear Window and an obsessive necrophiliac in Vertigo. Day is nothing short of phenomenal. Just look at her reaction to the news that her son has been kidnapped - she never overdoes anything, but neither does she sell it short. This is one of Hitchcock's most emotionally effective films. He never lets us forget what the stakes are for the McKennas; they feel the most fully human of all his central characters.\n",
      "\n",
      "XGBoost - Sample 3:\n",
      "File: 11725_10.txt\n",
      "Prediction: Positive (1), True Label: Positive (1) - Correct\n",
      "Review: I'm a fan of B grade 80s films in which the hero is a bit of a bad guy, a strong male, who finds love - and this film delivers!<br /><br />Towards the finish you do not know how Sharky will not be killed (and doesn't he take a beating! Realistically portrayed I believe). However he does and it's not via some overdone 'Die Hard' stunt. The 'past it' team he works with comes together, hence the title. His team are all characters - people on the sideline at work because they don't quite conform. These portrayals are funny and sympathetic - they have a real feeling to them. They're up against an iceman of an assassin, with a good team of his own. The result is a great film noir.\n",
      "\n",
      "XGBoost - Sample 4:\n",
      "File: 489_1.txt\n",
      "Prediction: Negative (0), True Label: Negative (0) - Correct\n",
      "Review: Contains Spoilers<br /><br />But if you weren't dropped on the head as a child and then used as a football then you'll agree with me that this is one of the worst and yet hilarious series ever made. Centreing round a woman who as a young girl was beaten by her father who also killed her mother, she spends her time drawing, but wait for it, then she becomes her superhero drawings and goes on to fight crime, therefore being \"drawn by pain\", so clever. The story itself is actually OK, but it's just how it's done, Jesse the writer and director has no idea how to write a script, just listen to a monologue featuring the 8 year old version of the hero and it sounds like it was written by a 30 year old man, while her dad, who sports a great moustache, just walks around the house all day while looking angry, just showing how bad the characterisation is, especially the bit where he gets angry in the first episode and begins repeating the phrase \"no more\" while holding his wife's head before killing her using the marble work surface. The following bang sound effect and just his terrible acting as all he can convey is angry just is brilliant, including after where he goes to beat his daughter using his belt which is all done with him moaning and looking angry in slow motion. The episodes themselves could contain easily a good clean script ranging over 5 minutes, but oh no Jesse doesn't want this. Little Jesse, is shitting out post modernism as if he'd just eaten Donnie Darko and then douched himself to death. Pointless camera jerks, all at weird angles, overly repeated lines and even pointless sequences just muddled up every now and again to fill the overlong episodes. In conclusion the idea isn't bad it's just how it's done, also there is a great character of a fat guy on a bench who doesn't come up enough and is great, i just wanna hug his Lil chubby cheeks cause they look so soft. The character development is non existent as the main character just says the first philosophical sounding thing that comes to her head although they all contradict one another. But all in all, mainly s**t<br /><br />Indiana Jones 4 however is much better, Type \"Jeeharv\" into you-tube as well, the results may make you weep at the beauty of the world also you'll hear a lot of cheap sex jokes, mostly gay ones.\n",
      "\n",
      "XGBoost - Sample 5:\n",
      "File: 6331_1.txt\n",
      "Prediction: Negative (0), True Label: Negative (0) - Correct\n",
      "Review: La Ragazza del Vagone Letto, or Terror Express! as it was called on the version I saw, starts as various passengers board a long distance train. Three thuggish idiots, Dave, Phil & Ernie (Carlo De Mejo) board & it's clear that they're there to cause trouble as they intimidate & verbally abuse the other passengers & staff. As the train speeds along things turn nasty when a prostitute named Juliette (Silvia Dionisio) refuses to have sex with Dave, he & his mates decide to hold the entire train hostage so they can have an orgy with Juliette &, well not much else actually happens apart from some hero cop & his prisoner who set about saving the day. Erm, that's it really...<br /><br />This Italian production was directed by Ferdinando Baldi & is complete total & utter crap from start to finish. The script by George Eastman as Luigi Montefiori could just as easily be described as a really boring porno as much as a horror/thriller. It is tediously slow, it's 35 minutes before anything even remotely sleazy happens & as a whole the film lacks the sort of exploitation elements that Italian sleaze & horror was delivering at that time. The film can be compared to another Italian production the infinitely better The House on the Edge of the Park (1980) made the same year, it's a very broad comparison though as everything that made The House on the Edge of the Park the notorious film that it is is absent from La Ragazza del Vagone Letto, there's no blood, no gore, almost no violence, there's only a couple of really tame rapes, the story has no twists or turns & as it's incredibly boring to watch. Italian sleaze & horror from the late 70's & early 80's isn't known for it's strong story lines or great scripts but this films really does scrape the bottom-of-the-barrel on all counts. The character's are awful, the film spends the first 30 plus minutes building them up & giving some background as to why they're on the train but this is all quickly forgotten & comes to absolutely nothing. I hated the lame ending as well & I don't know if I missed something but was any sort of reasonable explanation given as to why these three lamebrains would hijack a train? I don't think there was, was there? I'm sorry but because your angry at a prostitute is not enough of a reason, surely the filmmakers could have come up with something a bit more substantial & interesting if not more plausible. In my opinion this film stinks, it's as simple & straight forward as that I'm afraid.<br /><br />Director Baldi does an OK job, to be fair he only has one corridor & a few train compartments to work with so I'll cut him some slack, having said that the film does become very repetitive. There is no style & he films the sex scenes like a bad soft core porno complete with awful romantic sounding piano music. There is NOT ONE SINGLE DROP OF BLOOD SPILT IN THE ENTIRE FILM, that's right not one single drop. Forget about any gore or violence as you'll be very disappointed if you do, like I did. There are a couple of rapes but they're amateurishly staged & have zero impact, the nasty exploitation & sleaze of say I Spit on Your Grave (1978) or The Last House on the Left (1972) is not here.<br /><br />Technically La Ragazza del Vagone Letto is OK & it's quite well made on what must have been a low budget but the setting obviously helped keep the cost down to a minimum. The acting is poor as usual, although since it was dubbed the original performances have been lost. Fans of Italian horror will recognise a lot of the voices here.<br /><br />La Ragazza del Vagone Letto is a terrible film, it's just my opinion but I was bored to tears waiting for something to happen & when it eventually never I felt cheated, I want those 80 minutes of my life back. This piece of crap isn't even fit to grace the 99p VHS bargain bin in your local Blockbuster, one to avoid.\n",
      "\n"
     ]
    }
   ],
   "source": [
    "import os\n",
    "import random\n",
    "\n",
    "# Function to load a few sample reviews and their true labels from the dataset files\n",
    "def load_sample_reviews_from_files(base_dir, sentiment, num_samples=5):\n",
    "    reviews = []\n",
    "    labels = []\n",
    "    filenames = []\n",
    "    \n",
    "    # Define the directory path for positive or negative reviews\n",
    "    dir_path = os.path.join(base_dir, sentiment)\n",
    "    \n",
    "    # Get a list of files in the directory\n",
    "    files = os.listdir(dir_path)\n",
    "    \n",
    "    # Randomly select a few files\n",
    "    sample_files = random.sample(files, num_samples)\n",
    "    \n",
    "    # Read the content of each selected file\n",
    "    for file_name in sample_files:\n",
    "        file_path = os.path.join(dir_path, file_name)\n",
    "        with open(file_path, 'r', encoding='utf-8') as file:\n",
    "            review = file.read()\n",
    "            reviews.append(review)\n",
    "            labels.append(1 if sentiment == 'pos' else 0)\n",
    "            filenames.append(file_name)\n",
    "    \n",
    "    return reviews, labels, filenames\n",
    "\n",
    "# Load sample positive and negative reviews\n",
    "sample_pos_reviews, pos_labels, pos_filenames = load_sample_reviews_from_files('/Users/hamza/Developer/python_projects/ml-project/data/test/', 'pos', num_samples=3)\n",
    "sample_neg_reviews, neg_labels, neg_filenames = load_sample_reviews_from_files('/Users/hamza/Developer/python_projects/ml-project/data/test/', 'neg', num_samples=2)\n",
    "\n",
    "# Combine positive and negative samples\n",
    "sample_reviews = sample_pos_reviews + sample_neg_reviews\n",
    "true_labels = pos_labels + neg_labels\n",
    "filenames = pos_filenames + neg_filenames\n",
    "\n",
    "# Preprocess the sample reviews\n",
    "sample_reviews_preprocessed = [preprocess_text(review) for review in sample_reviews]\n",
    "X_samples = vectorizer.transform(sample_reviews_preprocessed)\n",
    "\n",
    "# Function to test model predictions\n",
    "def test_model_predictions(model, X_samples, true_labels, filenames, model_name):\n",
    "    predictions = model.predict(X_samples)\n",
    "    for i, (review, prediction, true_label, filename) in enumerate(zip(sample_reviews, predictions, true_labels, filenames)):\n",
    "        result = \"Correct\" if prediction == true_label else \"Wrong\"\n",
    "        prediction_text = \"Positive (1)\" if prediction == 1 else \"Negative (0)\"\n",
    "        true_label_text = \"Positive (1)\" if true_label == 1 else \"Negative (0)\"\n",
    "        print(f\"{model_name} - Sample {i+1}:\")\n",
    "        print(f\"File: {filename}\")\n",
    "        print(f\"Prediction: {prediction_text}, True Label: {true_label_text} - {result}\")\n",
    "        print(f\"Review: {review}\\n\")\n",
    "\n",
    "# Test Logistic Regression model\n",
    "print(\"Testing Logistic Regression model:\")\n",
    "test_model_predictions(log_reg, X_samples, true_labels, filenames, \"Logistic Regression\")\n",
    "\n",
    "# Test SVM model\n",
    "print(\"\\nTesting SVM model:\")\n",
    "test_model_predictions(svm, X_samples, true_labels, filenames, \"SVM\")\n",
    "\n",
    "# Test XGBoost model\n",
    "print(\"\\nTesting XGBoost model:\")\n",
    "test_model_predictions(xgb, X_samples, true_labels, filenames, \"XGBoost\")\n"
   ]
  },
  {
   "cell_type": "markdown",
   "metadata": {},
   "source": [
    "\n",
    "# 6.2 Predicting Sentiments for Unlabeled Data\n",
    "\n",
    "In this cell, we load a few sample reviews from the unsupervised dataset, preprocess them, and then use the trained models to predict their sentiments. This helps in understanding the model's behavior on unlabeled data."
   ]
  },
  {
   "cell_type": "code",
   "execution_count": 27,
   "metadata": {},
   "outputs": [
    {
     "name": "stdout",
     "output_type": "stream",
     "text": [
      "Predicting sentiments for unsupervised reviews using Logistic Regression model:\n",
      "Logistic Regression - Unsupervised Sample 1:\n",
      "File: 21979_0.txt\n",
      "Prediction: Negative (0)\n",
      "Review: This movie kind of reminds me of A Mary-Kate and Ashley movie-only worse. Just the rich sisters kind of thing I think even though Alysons more the actress, in this movie Amanda michalka was okay sometimes but Alysons acting stunk. i think that after high-school musical they needed to come up with somethihng better and this definitely wasn't it. The story line wasn't that great and I think they should have gotten two other people to play Taylor and Courtney. I'm not a big Alyson Michalka fan and this movie didn't make me like her any better. i think they should definitely sick to singing and only watch this movie if you have nothing better to do (which sadly I didn't)\n",
      "\n",
      "Logistic Regression - Unsupervised Sample 2:\n",
      "File: 25102_0.txt\n",
      "Prediction: Positive (1)\n",
      "Review: ***SPOILERS*** You at first don't exactly know what your watching in \"the Last of the Dogmen\" it that it has nothing at all to do with the 19th century American West but the hunt for a trio of escaped convicts in the wilds of modern Montana.<br /><br />Being sent out to captured the dangerous fugitives, who had killed a prison guard in their escape attempt, is the grizzled and fatalistic bounty hunter Lewis Gates, Tom Berenger, and his faithful companion, and only friend in the world, his tracking dog Zip.<br /><br />Tracking the three fugitives into the impassable Oxbow Quadrangle Gates finds what's left of them with a broken Indian arrow as the only clue to what exactly did them in. It's back in town that Gates' curiosity gets the best of him as he tries to get to the bottom of what happened to the three convicts! It's there that Gates contacts anthropologist Prof. Diane Sloan, Barbara Hershey, who's conducting an archaeological dig in the area. The findings from that one broken Cheyenne arrow will lead both Gate's and Diane into a world that was lost for some 130 years. A world that had the survivors of the brutal 1864 US Calvary \"Sand Creek Massacre\" go into hiding for over a century. It also had them protect their unexplored and pristine land with the bravery and ferocity of the then, back in the 1860's, Cheyenne Dogmen whom these now modern Indians are the descendants of.<br /><br />Gates who had shut himself off from the world since his wife the daughter of the town's Sheriff Deegan, Kurtwood Smith, was accidentally drowned-when she fell off her horse-would in fact find a new reason for living in the dangerous world beyond the \"Wolf Valley\" in the Oxbow. It was there that the remaining Dogmen Cheyenne tribe settled and lived in peace from the hated \"white man\" for over 100 years.<br /><br />It took a long time for Gates with the help of the fluently Cheyenne speaking Diane to win over the suspicious Dogman Indians but in the end it proved dividends to both in each taking turns saving each others lives. In fact it was Gates who lead sheriff Deegan and a posse of local citizens to the Dogmen's camp but only in his attempt to save the chief's son's, who was earlier shot by one of the escaped convicts, life. Gates did that by riding into town and robbing the local pharmacy to get life-saving penicillin! The final moments of the movie \"Last of the Dogman\" is about the most feel-good, without being too schmaltzy, ending I've even seen in that Gates together with Diane and Zip, who was almost killed by a Cheyenne arrow, ended up being together in Dogman Country. A place where time stands still and where life, and the environment, isn't corrupted.<br /><br />P.S The movie besides its uplifting storyline and powerful acting by Tom Berenger Barbara Hershey and the Dogman's Indian Chief Yellow Wolf played by Steve Reevis is also beautifully narrated by actor and former rodeo clown, who's job is to distracts a wild 2,000 pound bull from goring a fallen rider, Wilford Brimley.\n",
      "\n",
      "Logistic Regression - Unsupervised Sample 3:\n",
      "File: 1946_0.txt\n",
      "Prediction: Negative (0)\n",
      "Review: I have to say, you know, it has been my \"sequel weekend\". Despite repeated warnings from my family and IMDb users to skip this \"Jaws\" flick, if you even want to really call it that, but I ignored it and figured maybe it's just getting a bad rep because it would be compared to the first and ultimate classic \"Jaws\". In the words of Nancy Karogan \"Oh, why?! Why?!\". That was the only way I could describe the film and sitting throw it.<br /><br />Wither it was the cheesy cheesy cheesy effects, I mean did every horror movie in the 80's have to be 3-D? It's rather, well, cheesy! The plot? Was there a plot I even ask? There was no main story or line for us to follow and I felt the story kept on forgetting to telling us the sub-plot. The acting was horrible, I'm surprised Dennis could even get a career after this. I'm just telling you, please do not be as stupid as me and ignore the warnings! Be afraid! Be very afraid! Of the actual movie that is.<br /><br />1/10\n",
      "\n",
      "Logistic Regression - Unsupervised Sample 4:\n",
      "File: 24043_0.txt\n",
      "Prediction: Negative (0)\n",
      "Review: OK, the original version of this movie wasn't imposing so why bother to remake it? The storyline is Stallone plays a Luca Brazi type mob enforcer who heads home for his brother's funeral. When he gets home he learns some of his old cronies were responsible so you know the drill....revengeeeee! I say the only reason this movie is watchable besides the usual Stallone delivery is because of Rachel Leigh Cook...this was back when she was in her true prime and she is GORGEOUS in the movie.<br /><br />The movie is more cerebral than action so if you're into that sort of thing give it a look, otherwise better bring some pillows and a blanket.<br /><br />The highlight of the movie is the opening scene where Carter beats the shyt out of the dude and Con tries to talk him out of it 4 out of 10\n",
      "\n",
      "Logistic Regression - Unsupervised Sample 5:\n",
      "File: 13070_0.txt\n",
      "Prediction: Negative (0)\n",
      "Review: This movie is a Big Chill wannabe. But, it fails to achieve that noble status through insipid dialogue and contrived plot. I kept thinking...who cares!! Do these people work?...are they productive?, or do they just wallow, wallow, wallow in self-centered pitiful auto-examination? I was amazed that the script was written by a man, because the male leading actors talk like women. What guy follows another guy into a public restroom and talk about masturbation?! And so much attention to detail of sets, yet these wimps slug Heineken from the bottle and I could see it was plain water...probably Poland Springs. And Andy McDowell chopping garlic... the professional cookbook writer chopping the garlic skins with the garlic?! Good actors after a bad script and worthless story. Sorry, not even worth a rental.\n",
      "\n",
      "\n",
      "Predicting sentiments for unsupervised reviews using SVM model:\n",
      "SVM - Unsupervised Sample 1:\n",
      "File: 21979_0.txt\n",
      "Prediction: Negative (0)\n",
      "Review: This movie kind of reminds me of A Mary-Kate and Ashley movie-only worse. Just the rich sisters kind of thing I think even though Alysons more the actress, in this movie Amanda michalka was okay sometimes but Alysons acting stunk. i think that after high-school musical they needed to come up with somethihng better and this definitely wasn't it. The story line wasn't that great and I think they should have gotten two other people to play Taylor and Courtney. I'm not a big Alyson Michalka fan and this movie didn't make me like her any better. i think they should definitely sick to singing and only watch this movie if you have nothing better to do (which sadly I didn't)\n",
      "\n",
      "SVM - Unsupervised Sample 2:\n",
      "File: 25102_0.txt\n",
      "Prediction: Positive (1)\n",
      "Review: ***SPOILERS*** You at first don't exactly know what your watching in \"the Last of the Dogmen\" it that it has nothing at all to do with the 19th century American West but the hunt for a trio of escaped convicts in the wilds of modern Montana.<br /><br />Being sent out to captured the dangerous fugitives, who had killed a prison guard in their escape attempt, is the grizzled and fatalistic bounty hunter Lewis Gates, Tom Berenger, and his faithful companion, and only friend in the world, his tracking dog Zip.<br /><br />Tracking the three fugitives into the impassable Oxbow Quadrangle Gates finds what's left of them with a broken Indian arrow as the only clue to what exactly did them in. It's back in town that Gates' curiosity gets the best of him as he tries to get to the bottom of what happened to the three convicts! It's there that Gates contacts anthropologist Prof. Diane Sloan, Barbara Hershey, who's conducting an archaeological dig in the area. The findings from that one broken Cheyenne arrow will lead both Gate's and Diane into a world that was lost for some 130 years. A world that had the survivors of the brutal 1864 US Calvary \"Sand Creek Massacre\" go into hiding for over a century. It also had them protect their unexplored and pristine land with the bravery and ferocity of the then, back in the 1860's, Cheyenne Dogmen whom these now modern Indians are the descendants of.<br /><br />Gates who had shut himself off from the world since his wife the daughter of the town's Sheriff Deegan, Kurtwood Smith, was accidentally drowned-when she fell off her horse-would in fact find a new reason for living in the dangerous world beyond the \"Wolf Valley\" in the Oxbow. It was there that the remaining Dogmen Cheyenne tribe settled and lived in peace from the hated \"white man\" for over 100 years.<br /><br />It took a long time for Gates with the help of the fluently Cheyenne speaking Diane to win over the suspicious Dogman Indians but in the end it proved dividends to both in each taking turns saving each others lives. In fact it was Gates who lead sheriff Deegan and a posse of local citizens to the Dogmen's camp but only in his attempt to save the chief's son's, who was earlier shot by one of the escaped convicts, life. Gates did that by riding into town and robbing the local pharmacy to get life-saving penicillin! The final moments of the movie \"Last of the Dogman\" is about the most feel-good, without being too schmaltzy, ending I've even seen in that Gates together with Diane and Zip, who was almost killed by a Cheyenne arrow, ended up being together in Dogman Country. A place where time stands still and where life, and the environment, isn't corrupted.<br /><br />P.S The movie besides its uplifting storyline and powerful acting by Tom Berenger Barbara Hershey and the Dogman's Indian Chief Yellow Wolf played by Steve Reevis is also beautifully narrated by actor and former rodeo clown, who's job is to distracts a wild 2,000 pound bull from goring a fallen rider, Wilford Brimley.\n",
      "\n",
      "SVM - Unsupervised Sample 3:\n",
      "File: 1946_0.txt\n",
      "Prediction: Negative (0)\n",
      "Review: I have to say, you know, it has been my \"sequel weekend\". Despite repeated warnings from my family and IMDb users to skip this \"Jaws\" flick, if you even want to really call it that, but I ignored it and figured maybe it's just getting a bad rep because it would be compared to the first and ultimate classic \"Jaws\". In the words of Nancy Karogan \"Oh, why?! Why?!\". That was the only way I could describe the film and sitting throw it.<br /><br />Wither it was the cheesy cheesy cheesy effects, I mean did every horror movie in the 80's have to be 3-D? It's rather, well, cheesy! The plot? Was there a plot I even ask? There was no main story or line for us to follow and I felt the story kept on forgetting to telling us the sub-plot. The acting was horrible, I'm surprised Dennis could even get a career after this. I'm just telling you, please do not be as stupid as me and ignore the warnings! Be afraid! Be very afraid! Of the actual movie that is.<br /><br />1/10\n",
      "\n",
      "SVM - Unsupervised Sample 4:\n",
      "File: 24043_0.txt\n",
      "Prediction: Negative (0)\n",
      "Review: OK, the original version of this movie wasn't imposing so why bother to remake it? The storyline is Stallone plays a Luca Brazi type mob enforcer who heads home for his brother's funeral. When he gets home he learns some of his old cronies were responsible so you know the drill....revengeeeee! I say the only reason this movie is watchable besides the usual Stallone delivery is because of Rachel Leigh Cook...this was back when she was in her true prime and she is GORGEOUS in the movie.<br /><br />The movie is more cerebral than action so if you're into that sort of thing give it a look, otherwise better bring some pillows and a blanket.<br /><br />The highlight of the movie is the opening scene where Carter beats the shyt out of the dude and Con tries to talk him out of it 4 out of 10\n",
      "\n",
      "SVM - Unsupervised Sample 5:\n",
      "File: 13070_0.txt\n",
      "Prediction: Negative (0)\n",
      "Review: This movie is a Big Chill wannabe. But, it fails to achieve that noble status through insipid dialogue and contrived plot. I kept thinking...who cares!! Do these people work?...are they productive?, or do they just wallow, wallow, wallow in self-centered pitiful auto-examination? I was amazed that the script was written by a man, because the male leading actors talk like women. What guy follows another guy into a public restroom and talk about masturbation?! And so much attention to detail of sets, yet these wimps slug Heineken from the bottle and I could see it was plain water...probably Poland Springs. And Andy McDowell chopping garlic... the professional cookbook writer chopping the garlic skins with the garlic?! Good actors after a bad script and worthless story. Sorry, not even worth a rental.\n",
      "\n",
      "\n",
      "Predicting sentiments for unsupervised reviews using XGBoost model:\n",
      "XGBoost - Unsupervised Sample 1:\n",
      "File: 21979_0.txt\n",
      "Prediction: Negative (0)\n",
      "Review: This movie kind of reminds me of A Mary-Kate and Ashley movie-only worse. Just the rich sisters kind of thing I think even though Alysons more the actress, in this movie Amanda michalka was okay sometimes but Alysons acting stunk. i think that after high-school musical they needed to come up with somethihng better and this definitely wasn't it. The story line wasn't that great and I think they should have gotten two other people to play Taylor and Courtney. I'm not a big Alyson Michalka fan and this movie didn't make me like her any better. i think they should definitely sick to singing and only watch this movie if you have nothing better to do (which sadly I didn't)\n",
      "\n",
      "XGBoost - Unsupervised Sample 2:\n",
      "File: 25102_0.txt\n",
      "Prediction: Positive (1)\n",
      "Review: ***SPOILERS*** You at first don't exactly know what your watching in \"the Last of the Dogmen\" it that it has nothing at all to do with the 19th century American West but the hunt for a trio of escaped convicts in the wilds of modern Montana.<br /><br />Being sent out to captured the dangerous fugitives, who had killed a prison guard in their escape attempt, is the grizzled and fatalistic bounty hunter Lewis Gates, Tom Berenger, and his faithful companion, and only friend in the world, his tracking dog Zip.<br /><br />Tracking the three fugitives into the impassable Oxbow Quadrangle Gates finds what's left of them with a broken Indian arrow as the only clue to what exactly did them in. It's back in town that Gates' curiosity gets the best of him as he tries to get to the bottom of what happened to the three convicts! It's there that Gates contacts anthropologist Prof. Diane Sloan, Barbara Hershey, who's conducting an archaeological dig in the area. The findings from that one broken Cheyenne arrow will lead both Gate's and Diane into a world that was lost for some 130 years. A world that had the survivors of the brutal 1864 US Calvary \"Sand Creek Massacre\" go into hiding for over a century. It also had them protect their unexplored and pristine land with the bravery and ferocity of the then, back in the 1860's, Cheyenne Dogmen whom these now modern Indians are the descendants of.<br /><br />Gates who had shut himself off from the world since his wife the daughter of the town's Sheriff Deegan, Kurtwood Smith, was accidentally drowned-when she fell off her horse-would in fact find a new reason for living in the dangerous world beyond the \"Wolf Valley\" in the Oxbow. It was there that the remaining Dogmen Cheyenne tribe settled and lived in peace from the hated \"white man\" for over 100 years.<br /><br />It took a long time for Gates with the help of the fluently Cheyenne speaking Diane to win over the suspicious Dogman Indians but in the end it proved dividends to both in each taking turns saving each others lives. In fact it was Gates who lead sheriff Deegan and a posse of local citizens to the Dogmen's camp but only in his attempt to save the chief's son's, who was earlier shot by one of the escaped convicts, life. Gates did that by riding into town and robbing the local pharmacy to get life-saving penicillin! The final moments of the movie \"Last of the Dogman\" is about the most feel-good, without being too schmaltzy, ending I've even seen in that Gates together with Diane and Zip, who was almost killed by a Cheyenne arrow, ended up being together in Dogman Country. A place where time stands still and where life, and the environment, isn't corrupted.<br /><br />P.S The movie besides its uplifting storyline and powerful acting by Tom Berenger Barbara Hershey and the Dogman's Indian Chief Yellow Wolf played by Steve Reevis is also beautifully narrated by actor and former rodeo clown, who's job is to distracts a wild 2,000 pound bull from goring a fallen rider, Wilford Brimley.\n",
      "\n",
      "XGBoost - Unsupervised Sample 3:\n",
      "File: 1946_0.txt\n",
      "Prediction: Negative (0)\n",
      "Review: I have to say, you know, it has been my \"sequel weekend\". Despite repeated warnings from my family and IMDb users to skip this \"Jaws\" flick, if you even want to really call it that, but I ignored it and figured maybe it's just getting a bad rep because it would be compared to the first and ultimate classic \"Jaws\". In the words of Nancy Karogan \"Oh, why?! Why?!\". That was the only way I could describe the film and sitting throw it.<br /><br />Wither it was the cheesy cheesy cheesy effects, I mean did every horror movie in the 80's have to be 3-D? It's rather, well, cheesy! The plot? Was there a plot I even ask? There was no main story or line for us to follow and I felt the story kept on forgetting to telling us the sub-plot. The acting was horrible, I'm surprised Dennis could even get a career after this. I'm just telling you, please do not be as stupid as me and ignore the warnings! Be afraid! Be very afraid! Of the actual movie that is.<br /><br />1/10\n",
      "\n",
      "XGBoost - Unsupervised Sample 4:\n",
      "File: 24043_0.txt\n",
      "Prediction: Negative (0)\n",
      "Review: OK, the original version of this movie wasn't imposing so why bother to remake it? The storyline is Stallone plays a Luca Brazi type mob enforcer who heads home for his brother's funeral. When he gets home he learns some of his old cronies were responsible so you know the drill....revengeeeee! I say the only reason this movie is watchable besides the usual Stallone delivery is because of Rachel Leigh Cook...this was back when she was in her true prime and she is GORGEOUS in the movie.<br /><br />The movie is more cerebral than action so if you're into that sort of thing give it a look, otherwise better bring some pillows and a blanket.<br /><br />The highlight of the movie is the opening scene where Carter beats the shyt out of the dude and Con tries to talk him out of it 4 out of 10\n",
      "\n",
      "XGBoost - Unsupervised Sample 5:\n",
      "File: 13070_0.txt\n",
      "Prediction: Negative (0)\n",
      "Review: This movie is a Big Chill wannabe. But, it fails to achieve that noble status through insipid dialogue and contrived plot. I kept thinking...who cares!! Do these people work?...are they productive?, or do they just wallow, wallow, wallow in self-centered pitiful auto-examination? I was amazed that the script was written by a man, because the male leading actors talk like women. What guy follows another guy into a public restroom and talk about masturbation?! And so much attention to detail of sets, yet these wimps slug Heineken from the bottle and I could see it was plain water...probably Poland Springs. And Andy McDowell chopping garlic... the professional cookbook writer chopping the garlic skins with the garlic?! Good actors after a bad script and worthless story. Sorry, not even worth a rental.\n",
      "\n"
     ]
    }
   ],
   "source": [
    "# Function to load a few sample unsupervised reviews from the dataset files\n",
    "def load_unsupervised_reviews(base_dir, num_samples=5):\n",
    "    reviews = []\n",
    "    filenames = []\n",
    "    \n",
    "    # Get a list of files in the unsupervised directory\n",
    "    files = os.listdir(base_dir)\n",
    "    \n",
    "    # Randomly select a few files\n",
    "    sample_files = random.sample(files, num_samples)\n",
    "    \n",
    "    # Read the content of each selected file\n",
    "    for file_name in sample_files:\n",
    "        file_path = os.path.join(base_dir, file_name)\n",
    "        with open(file_path, 'r', encoding='utf-8') as file:\n",
    "            review = file.read()\n",
    "            reviews.append(review)\n",
    "            filenames.append(file_name)\n",
    "    \n",
    "    return reviews, filenames\n",
    "\n",
    "# Load sample unsupervised reviews\n",
    "unsupervised_reviews, unsupervised_filenames = load_unsupervised_reviews('/Users/hamza/Developer/python_projects/ml-project/data/train/unsup', num_samples=5)\n",
    "\n",
    "# Preprocess the unsupervised reviews\n",
    "unsupervised_reviews_preprocessed = [preprocess_text(review) for review in unsupervised_reviews]\n",
    "X_unsupervised_samples = vectorizer.transform(unsupervised_reviews_preprocessed)\n",
    "\n",
    "# Function to predict sentiments for unsupervised reviews\n",
    "def predict_unsupervised_reviews(model, X_samples, filenames, model_name):\n",
    "    predictions = model.predict(X_samples)\n",
    "    for i, (review, prediction, filename) in enumerate(zip(unsupervised_reviews, predictions, filenames)):\n",
    "        prediction_text = \"Positive (1)\" if prediction == 1 else \"Negative (0)\"\n",
    "        print(f\"{model_name} - Unsupervised Sample {i+1}:\")\n",
    "        print(f\"File: {filename}\")\n",
    "        print(f\"Prediction: {prediction_text}\")\n",
    "        print(f\"Review: {review}\\n\")\n",
    "\n",
    "# Predict sentiments using Logistic Regression model\n",
    "print(\"Predicting sentiments for unsupervised reviews using Logistic Regression model:\")\n",
    "predict_unsupervised_reviews(log_reg, X_unsupervised_samples, unsupervised_filenames, \"Logistic Regression\")\n",
    "\n",
    "# Predict sentiments using SVM model\n",
    "print(\"\\nPredicting sentiments for unsupervised reviews using SVM model:\")\n",
    "predict_unsupervised_reviews(svm, X_unsupervised_samples, unsupervised_filenames, \"SVM\")\n",
    "\n",
    "# Predict sentiments using XGBoost model\n",
    "print(\"\\nPredicting sentiments for unsupervised reviews using XGBoost model:\")\n",
    "predict_unsupervised_reviews(xgb, X_unsupervised_samples, unsupervised_filenames, \"XGBoost\")\n"
   ]
  },
  {
   "cell_type": "markdown",
   "metadata": {},
   "source": [
    "# 6.3 Testing User Input Review\n",
    "\n",
    "This cell allows you to input a custom movie review and see the sentiment prediction made by the trained models.\n"
   ]
  },
  {
   "cell_type": "code",
   "execution_count": 29,
   "metadata": {},
   "outputs": [],
   "source": [
    "# Function to preprocess and predict sentiment for user input review\n",
    "def predict_user_input_review(model, review, model_name):\n",
    "    # Preprocess the input review\n",
    "    review_preprocessed = preprocess_text(review)\n",
    "    X_sample = vectorizer.transform([review_preprocessed])\n",
    "    \n",
    "    # Predict sentiment\n",
    "    prediction = model.predict(X_sample)[0]\n",
    "    prediction_text = \"Positive (1)\" if prediction == 1 else \"Negative (0)\"\n",
    "    \n",
    "    print(f\"{model_name} Prediction:\")\n",
    "    print(f\"Review: {review}\")\n",
    "    print(f\"Prediction: {prediction_text}\\n\")\n"
   ]
  },
  {
   "cell_type": "code",
   "execution_count": 41,
   "metadata": {},
   "outputs": [
    {
     "name": "stdout",
     "output_type": "stream",
     "text": [
      "Logistic Regression Prediction:\n",
      "Review: it was just okay, i had seen better movies before. only if they could make it more interesting.\n",
      "Prediction: Negative (0)\n",
      "\n",
      "SVM Prediction:\n",
      "Review: it was just okay, i had seen better movies before. only if they could make it more interesting.\n",
      "Prediction: Negative (0)\n",
      "\n",
      "XGBoost Prediction:\n",
      "Review: it was just okay, i had seen better movies before. only if they could make it more interesting.\n",
      "Prediction: Negative (0)\n",
      "\n"
     ]
    }
   ],
   "source": [
    "\n",
    "# Example usage for testing user input review\n",
    "user_review = input(\"Enter a movie review: \")\n",
    "\n",
    "# Predict sentiment using Logistic Regression model\n",
    "predict_user_input_review(log_reg, user_review, \"Logistic Regression\")\n",
    "\n",
    "# Predict sentiment using SVM model\n",
    "predict_user_input_review(svm, user_review, \"SVM\")\n",
    "\n",
    "# Predict sentiment using XGBoost model\n",
    "predict_user_input_review(xgb, user_review, \"XGBoost\")"
   ]
  },
  {
   "cell_type": "code",
   "execution_count": null,
   "metadata": {},
   "outputs": [],
   "source": []
  }
 ],
 "metadata": {
  "kernelspec": {
   "display_name": "venv",
   "language": "python",
   "name": "python3"
  },
  "language_info": {
   "codemirror_mode": {
    "name": "ipython",
    "version": 3
   },
   "file_extension": ".py",
   "mimetype": "text/x-python",
   "name": "python",
   "nbconvert_exporter": "python",
   "pygments_lexer": "ipython3",
   "version": "3.9.6"
  }
 },
 "nbformat": 4,
 "nbformat_minor": 2
}
